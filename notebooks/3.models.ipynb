{
 "cells": [
  {
   "cell_type": "code",
   "execution_count": 9,
   "metadata": {},
   "outputs": [],
   "source": [
    "#libraries\n",
    "# data analysis and wrangling\n",
    "import pandas as pd\n",
    "import numpy as np\n",
    "\n",
    "# visualization\n",
    "import seaborn as sns\n",
    "import matplotlib.pyplot as plt\n",
    "import funs.helpers_3 as he\n",
    "import gc\n",
    "\n",
    "np.random.seed(2024)"
   ]
  },
  {
   "cell_type": "code",
   "execution_count": 41,
   "metadata": {},
   "outputs": [],
   "source": [
    "train=pd.read_pickle(\"../data/outputs/2.feature_engineering/train_selected.pkl\")\n",
    "test=pd.read_pickle(\"../data/outputs/2.feature_engineering/train_selected.pkl\")"
   ]
  },
  {
   "cell_type": "code",
   "execution_count": 105,
   "metadata": {},
   "outputs": [],
   "source": [
    "import funs.helpers_3 as he\n",
    "import importlib\n",
    "importlib.reload(he)\n",
    "import funs.helpers_3 as he"
   ]
  },
  {
   "cell_type": "code",
   "execution_count": 109,
   "metadata": {},
   "outputs": [],
   "source": [
    "initial_params = {\n",
    "    'target':'price',\n",
    "    'scoring':\"neg_mean_squared_error\"\n",
    "}"
   ]
  },
  {
   "cell_type": "code",
   "execution_count": 110,
   "metadata": {},
   "outputs": [
    {
     "name": "stderr",
     "output_type": "stream",
     "text": [
      "/Users/anfrejter/Documents/GitHub/uber_lyft_price_prediction/.venv/lib/python3.12/site-packages/keras/src/layers/rnn/rnn.py:200: UserWarning: Do not pass an `input_shape`/`input_dim` argument to a layer. When using Sequential models, prefer using an `Input(shape)` object as the first layer in the model instead.\n",
      "  super().__init__(**kwargs)\n"
     ]
    },
    {
     "name": "stdout",
     "output_type": "stream",
     "text": [
      "\u001b[1m3971/3971\u001b[0m \u001b[32m━━━━━━━━━━━━━━━━━━━━\u001b[0m\u001b[37m\u001b[0m \u001b[1m1s\u001b[0m 251us/step\n"
     ]
    },
    {
     "name": "stderr",
     "output_type": "stream",
     "text": [
      "/Users/anfrejter/Documents/GitHub/uber_lyft_price_prediction/.venv/lib/python3.12/site-packages/keras/src/layers/rnn/rnn.py:200: UserWarning: Do not pass an `input_shape`/`input_dim` argument to a layer. When using Sequential models, prefer using an `Input(shape)` object as the first layer in the model instead.\n",
      "  super().__init__(**kwargs)\n"
     ]
    },
    {
     "name": "stdout",
     "output_type": "stream",
     "text": [
      "\u001b[1m3971/3971\u001b[0m \u001b[32m━━━━━━━━━━━━━━━━━━━━\u001b[0m\u001b[37m\u001b[0m \u001b[1m1s\u001b[0m 268us/step\n"
     ]
    },
    {
     "name": "stderr",
     "output_type": "stream",
     "text": [
      "/Users/anfrejter/Documents/GitHub/uber_lyft_price_prediction/.venv/lib/python3.12/site-packages/keras/src/layers/rnn/rnn.py:200: UserWarning: Do not pass an `input_shape`/`input_dim` argument to a layer. When using Sequential models, prefer using an `Input(shape)` object as the first layer in the model instead.\n",
      "  super().__init__(**kwargs)\n"
     ]
    },
    {
     "name": "stdout",
     "output_type": "stream",
     "text": [
      "\u001b[1m3971/3971\u001b[0m \u001b[32m━━━━━━━━━━━━━━━━━━━━\u001b[0m\u001b[37m\u001b[0m \u001b[1m1s\u001b[0m 293us/step\n"
     ]
    },
    {
     "name": "stderr",
     "output_type": "stream",
     "text": [
      "/Users/anfrejter/Documents/GitHub/uber_lyft_price_prediction/.venv/lib/python3.12/site-packages/keras/src/layers/rnn/rnn.py:200: UserWarning: Do not pass an `input_shape`/`input_dim` argument to a layer. When using Sequential models, prefer using an `Input(shape)` object as the first layer in the model instead.\n",
      "  super().__init__(**kwargs)\n"
     ]
    },
    {
     "name": "stdout",
     "output_type": "stream",
     "text": [
      "\u001b[1m3971/3971\u001b[0m \u001b[32m━━━━━━━━━━━━━━━━━━━━\u001b[0m\u001b[37m\u001b[0m \u001b[1m1s\u001b[0m 259us/step\n"
     ]
    }
   ],
   "source": [
    "initial_results = he.get_initial_score(train,initial_params)"
   ]
  },
  {
   "cell_type": "code",
   "execution_count": 112,
   "metadata": {},
   "outputs": [
    {
     "data": {
      "text/plain": [
       "{'xgb': np.float64(-2.7313067129103064),\n",
       " 'lr': np.float64(-12.417854947698949),\n",
       " 'ada': np.float64(-40.82063230787958),\n",
       " 'lstm': np.float64(-3.4176498731142217)}"
      ]
     },
     "execution_count": 112,
     "metadata": {},
     "output_type": "execute_result"
    }
   ],
   "source": [
    "initial_results"
   ]
  },
  {
   "cell_type": "code",
   "execution_count": 113,
   "metadata": {},
   "outputs": [],
   "source": [
    "opt_params={\n",
    "    'target':'price',\n",
    "    'scoring':'neg_mean_squared_error',\n",
    "    'n_trials':10\n",
    "}"
   ]
  },
  {
   "cell_type": "code",
   "execution_count": null,
   "metadata": {},
   "outputs": [],
   "source": [
    "he.optimize_lstm_hyperparams(train,opt_params)"
   ]
  },
  {
   "cell_type": "code",
   "execution_count": 114,
   "metadata": {},
   "outputs": [
    {
     "name": "stderr",
     "output_type": "stream",
     "text": [
      "[I 2025-01-12 18:21:05,592] A new study created in memory with name: no-name-1d574e8a-28f9-4206-9319-346b8eb923eb\n"
     ]
    }
   ],
   "source": [
    "he.optimize_ada_hyperparams(train,opt_params)"
   ]
  },
  {
   "cell_type": "code",
   "execution_count": 36,
   "metadata": {},
   "outputs": [
    {
     "name": "stderr",
     "output_type": "stream",
     "text": [
      "[I 2025-01-12 16:13:56,276] A new study created in memory with name: no-name-be2ad5e2-e53c-4083-a10a-403f262b0638\n",
      "[I 2025-01-12 16:13:58,713] Trial 0 finished with value: -3.828982096918206 and parameters: {'max_depth': 2, 'min_child_weight': 8, 'gamma': 10, 'learning_rate': 0.4180813270658222}. Best is trial 0 with value: -3.828982096918206.\n",
      "[I 2025-01-12 16:14:01,573] Trial 1 finished with value: -3.1043048974254193 and parameters: {'max_depth': 3, 'min_child_weight': 4, 'gamma': 10, 'learning_rate': 0.39581636007257653}. Best is trial 1 with value: -3.1043048974254193.\n",
      "[I 2025-01-12 16:14:05,000] Trial 2 finished with value: -2.7891210223825134 and parameters: {'max_depth': 6, 'min_child_weight': 3, 'gamma': 8, 'learning_rate': 0.2646976073021213}. Best is trial 2 with value: -2.7891210223825134.\n",
      "[I 2025-01-12 16:14:10,818] Trial 3 finished with value: -2.738578315362944 and parameters: {'max_depth': 8, 'min_child_weight': 2, 'gamma': 2, 'learning_rate': 0.10117788473886023}. Best is trial 3 with value: -2.738578315362944.\n",
      "[I 2025-01-12 16:14:14,113] Trial 4 finished with value: -3.0112674360674174 and parameters: {'max_depth': 4, 'min_child_weight': 1, 'gamma': 5, 'learning_rate': 0.11582022944618922}. Best is trial 3 with value: -2.738578315362944.\n",
      "[I 2025-01-12 16:14:17,219] Trial 5 finished with value: -2.7609643015410907 and parameters: {'max_depth': 8, 'min_child_weight': 7, 'gamma': 8, 'learning_rate': 0.35728074122608333}. Best is trial 3 with value: -2.738578315362944.\n",
      "[I 2025-01-12 16:14:20,053] Trial 6 finished with value: -3.364284320546836 and parameters: {'max_depth': 3, 'min_child_weight': 5, 'gamma': 8, 'learning_rate': 0.11594665845801262}. Best is trial 3 with value: -2.738578315362944.\n",
      "[I 2025-01-12 16:14:22,938] Trial 7 finished with value: -3.077815212418298 and parameters: {'max_depth': 3, 'min_child_weight': 9, 'gamma': 4, 'learning_rate': 0.4989566232055243}. Best is trial 3 with value: -2.738578315362944.\n",
      "[I 2025-01-12 16:14:28,635] Trial 8 finished with value: -2.7186304729621282 and parameters: {'max_depth': 8, 'min_child_weight': 4, 'gamma': 1, 'learning_rate': 0.12831480187240463}. Best is trial 8 with value: -2.7186304729621282.\n",
      "[I 2025-01-12 16:14:31,548] Trial 9 finished with value: -3.3171419435727594 and parameters: {'max_depth': 3, 'min_child_weight': 1, 'gamma': 4, 'learning_rate': 0.12479506393006551}. Best is trial 8 with value: -2.7186304729621282.\n"
     ]
    },
    {
     "data": {
      "text/plain": [
       "{'max_depth': 8,\n",
       " 'min_child_weight': 4,\n",
       " 'gamma': 1,\n",
       " 'learning_rate': 0.12831480187240463,\n",
       " 'objective': 'reg:squarederror'}"
      ]
     },
     "execution_count": 36,
     "metadata": {},
     "output_type": "execute_result"
    }
   ],
   "source": [
    "xgb_params = he.optimize_xgb_hyperparams(train,opt_params)\n",
    "ada_params = he.optimize_ada_hyperparams(train,opt_params)\n",
    "lstm_params = he.optimize_lstm_hyperparams(train,opt_params)\n"
   ]
  }
 ],
 "metadata": {
  "kernelspec": {
   "display_name": ".venv",
   "language": "python",
   "name": "python3"
  },
  "language_info": {
   "codemirror_mode": {
    "name": "ipython",
    "version": 3
   },
   "file_extension": ".py",
   "mimetype": "text/x-python",
   "name": "python",
   "nbconvert_exporter": "python",
   "pygments_lexer": "ipython3",
   "version": "3.12.8"
  }
 },
 "nbformat": 4,
 "nbformat_minor": 2
}
